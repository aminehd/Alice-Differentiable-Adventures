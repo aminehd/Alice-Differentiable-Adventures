{
  "cells": [
    {
      "cell_type": "markdown",
      "metadata": {
        "id": "view-in-github",
        "colab_type": "text"
      },
      "source": [
        "<a href=\"https://colab.research.google.com/github/aminehd/Alice-Differentiable-Adventures/blob/main/Chapter_7/Conv2D_scratch.ipynb\" target=\"_parent\"><img src=\"https://colab.research.google.com/assets/colab-badge.svg\" alt=\"Open In Colab\"/></a>"
      ]
    },
    {
      "cell_type": "markdown",
      "source": [
        "# PyTorch's Unfold operation.\n",
        "\n",
        "## What's unfold operation\n",
        "\n",
        "PyTorch's `unfold` operation extracts sliding patches of k X k size from an input tensor. It is first operation behind a convolution operation.\n",
        "\n",
        "## Example 1: Single-Channel Unfold\n",
        "\n",
        "```\n",
        "Input Tensor (4×4):\n",
        "┌─────┬─────┬─────┬─────┐\n",
        "│ 1.0 │ 2.0 │ 3.0 │ 4.0 │\n",
        "├─────┼─────┼─────┼─────┤\n",
        "│ 5.0 │ 6.0 │ 7.0 │ 8.0 │\n",
        "├─────┼─────┼─────┼─────┤\n",
        "│ 9.0 │ 10.0│ 11.0│ 12.0│\n",
        "├─────┼─────┼─────┼─────┤\n",
        "│ 13.0│ 14.0│ 15.0│ 16.0│\n",
        "└─────┴─────┴─────┴─────┘\n",
        "```\n",
        "Let's apply `unfold` with a 2×2 kernel and stride=1:"
      ],
      "metadata": {
        "id": "24NhLu2jxADC"
      }
    },
    {
      "cell_type": "code",
      "execution_count": 2,
      "metadata": {
        "vscode": {
          "languageId": "plaintext"
        },
        "id": "ZbHJsPLYwc7x"
      },
      "outputs": [],
      "source": [
        "import torch\n",
        "img = torch.Tensor([[1, 2, 3, 4], [5, 6, 7, 8], [9, 10, 11, 12], [13, 14, 15, 16]])"
      ]
    },
    {
      "cell_type": "markdown",
      "source": [
        "We transform img.unsqueeze(0) to add a batch dimension and a channel dimension:\n"
      ],
      "metadata": {
        "id": "7UhZnxswzT3q"
      }
    },
    {
      "cell_type": "code",
      "source": [
        "print(img.shape)\n",
        "print(img.unsqueeze(0).shape)\n",
        "print(img.unsqueeze(0).unsqueeze(0).shape)"
      ],
      "metadata": {
        "id": "9CBDjrxSywgD",
        "outputId": "43bad184-dce5-47f0-a1c3-237797d93cf6",
        "colab": {
          "base_uri": "https://localhost:8080/"
        }
      },
      "execution_count": 5,
      "outputs": [
        {
          "output_type": "stream",
          "name": "stdout",
          "text": [
            "torch.Size([4, 4])\n",
            "torch.Size([1, 4, 4])\n",
            "torch.Size([1, 1, 4, 4])\n"
          ]
        }
      ]
    },
    {
      "cell_type": "code",
      "source": [
        "unfloded = torch.nn.functional.unfold(\n",
        "    img.unsqueeze(0).unsqueeze(0),\n",
        "    kernel_size=2,\n",
        "    stride=1\n",
        ")\n",
        "print(unfloded.shape)"
      ],
      "metadata": {
        "id": "6lfKIUUbzF8d",
        "outputId": "fc388c73-ec58-4c40-af0d-ad3bd1effc89",
        "colab": {
          "base_uri": "https://localhost:8080/"
        }
      },
      "execution_count": 6,
      "outputs": [
        {
          "output_type": "stream",
          "name": "stdout",
          "text": [
            "torch.Size([1, 4, 9])\n"
          ]
        }
      ]
    },
    {
      "cell_type": "markdown",
      "source": [
        "### The Unfold Process\n",
        "\n",
        "Unfold slides a 2×2 window across the input, extracting 9 patches (3×3 output positions):\n",
        "\n",
        "```\n",
        "Patch 0:             Patch 1:             Patch 2:\n",
        "┌─────┬─────┐        ┌─────┬─────┐        ┌─────┬─────┐\n",
        "│ 1.0 │ 2.0 │        │ 2.0 │ 3.0 │        │ 3.0 │ 4.0 │\n",
        "├─────┼─────┤        ├─────┼─────┤        ├─────┼─────┤\n",
        "│ 5.0 │ 6.0 │        │ 6.0 │ 7.0 │        │ 7.0 │ 8.0 │\n",
        "└─────┴─────┘        └─────┴─────┘        └─────┴─────┘\n",
        "\n",
        "Patch 3:             Patch 4:             Patch 5:\n",
        "┌─────┬─────┐        ┌─────┬─────┐        ┌─────┬─────┐\n",
        "│ 5.0 │ 6.0 │        │ 6.0 │ 7.0 │        │ 7.0 │ 8.0 │\n",
        "├─────┼─────┤        ├─────┼─────┤        ├─────┼─────┤\n",
        "│ 9.0 │ 10.0│        │ 10.0│ 11.0│        │ 11.0│ 12.0│\n",
        "└─────┴─────┘        └─────┴─────┘        └─────┴─────┘\n",
        "\n",
        "Patch 6:             Patch 7:             Patch 8:\n",
        "┌─────┬─────┐        ┌─────┬─────┐        ┌─────┬─────┐\n",
        "│ 9.0 │ 10.0│        │ 10.0│ 11.0│        │ 11.0│ 12.0│\n",
        "├─────┼─────┤        ├─────┼─────┤        ├─────┼─────┤\n",
        "│ 13.0│ 14.0│        │ 14.0│ 15.0│        │ 15.0│ 16.0│\n",
        "└─────┴─────┘        └─────┴─────┘        └─────┴─────┘\n",
        "```"
      ],
      "metadata": {
        "id": "QaEartl70xfS"
      }
    },
    {
      "cell_type": "markdown",
      "source": [
        "### The Resulting Unfolded Tensor\n",
        "\n",
        "The `unfold` operation converts these patches to columns in a new tensor:\n",
        "\n",
        "```\n",
        "Unfolded Tensor (4×9):\n",
        "┌─────┬─────┬─────┬─────┬─────┬─────┬─────┬─────┬─────┐\n",
        "│ 1.0 │ 2.0 │ 3.0 │ 5.0 │ 6.0 │ 7.0 │ 9.0 │ 10.0│ 11.0│ ← Top-left of each patch\n",
        "├─────┼─────┼─────┼─────┼─────┼─────┼─────┼─────┼─────┤\n",
        "│ 2.0 │ 3.0 │ 4.0 │ 6.0 │ 7.0 │ 8.0 │ 10.0│ 11.0│ 12.0│ ← Top-right of each patch\n",
        "├─────┼─────┼─────┼─────┼─────┼─────┼─────┼─────┼─────┤\n",
        "│ 5.0 │ 6.0 │ 7.0 │ 9.0 │ 10.0│ 11.0│ 13.0│ 14.0│ 15.0│ ← Bottom-left of each patch\n",
        "├─────┼─────┼─────┼─────┼─────┼─────┼─────┼─────┼─────┤\n",
        "│ 6.0 │ 7.0 │ 8.0 │ 10.0│ 11.0│ 12.0│ 14.0│ 15.0│ 16.0│ ← Bottom-right of each patch\n",
        "└─────┴─────┴─────┴─────┴─────┴─────┴─────┴─────┴─────┘\n",
        "  P0    P1    P2    P3    P4    P5    P6    P7    P8   ← Patch number\n",
        "```"
      ],
      "metadata": {
        "id": "K_jurbKT06AM"
      }
    },
    {
      "cell_type": "markdown",
      "source": [
        " Each column represents one of 2X2 patches from input that flattend into a vector. This exaplains why the result has shape `[1,4,9]`:\n",
        " - 1 batch\n",
        " - Each column is a flattened 2X2 part of the input\n",
        " - The Top left cell of patch can be any of pixels in the input except for the last row and col. So 9 patches."
      ],
      "metadata": {
        "id": "EBOz2UBu1COE"
      }
    },
    {
      "cell_type": "code",
      "source": [
        "unfloded.shape"
      ],
      "metadata": {
        "id": "XhRv2DuM0tOf",
        "outputId": "638cc4c4-5a12-4c46-8535-9dcb6b60f76f",
        "colab": {
          "base_uri": "https://localhost:8080/"
        }
      },
      "execution_count": 8,
      "outputs": [
        {
          "output_type": "execute_result",
          "data": {
            "text/plain": [
              "torch.Size([1, 4, 9])"
            ]
          },
          "metadata": {},
          "execution_count": 8
        }
      ]
    },
    {
      "cell_type": "markdown",
      "source": [
        "## Example 2: Multi-Channel Unfold\n",
        "\n",
        "We can work out a multi channel input. let's address your specific question about why you get 27 channels when unfolding a 3-channel image with a 3×3 kernel.\n",
        "\n",
        "Consider a 3-channel input tensor with shape `[1, 3, 32, 32]`:\n",
        "\n",
        "```\n",
        "3-Channel Input:\n",
        "Channel 0:                  Channel 1:                  Channel 2:\n",
        "┌────┬────┬─────┬─   ─┬────┐ ┌────┬────┬─────┬─   ─┬────┐ ┌────┬────┬─────┬─   ─┬────┐\n",
        "│ A0 │ B0 │ C0  │ ... │ Z0 │ │ A1 │ B1 │ C1  │ ... │ Z1 │ │ A2 │ B2 │ C2  │ ... │ Z2 │\n",
        "├────┼────┼─────┼─   ─┼────┤ ├────┼────┼─────┼─   ─┼────┤ ├────┼────┼─────┼─   ─┼────┤\n",
        "│ D0 │ E0 │ F0  │ ... │... │ │ D1 │ E1 │ F1  │ ... │... │ │ D2 │ E2 │ F2  │ ... │... │\n",
        "├────┼────┼─────┼─   ─┼────┤ ├────┼────┼─────┼─   ─┼────┤ ├────┼────┼─────┼─   ─┼────┤\n",
        "│ G0 │ H0 │ I0  │ ... │... │ │ G1 │ H1 │ I1  │ ... │... │ │ G2 │ H2 │ I2  │ ... │... │\n",
        "├────┼────┼─────┼─   ─┼────┤ ├────┼────┼─────┼─   ─┼────┤ ├────┼────┼─────┼─   ─┼────┤\n",
        "│... │... │ ... │ ... │... │ │... │... │ ... │ ... │... │ │... │... │ ... │ ... │... │\n",
        "├────┼────┼─────┼─   ─┼────┤ ├────┼────┼─────┼─   ─┼────┤ ├────┼────┼─────┼─   ─┼────┤\n",
        "│... │... │ ... │ ... │... │ │... │... │ ... │ ... │... │ │... │... │ ... │ ... │... │\n",
        "└────┴────┴─────┴─   ─┴────┘ └────┴────┴─────┴─   ─┴────┘ └────┴────┴─────┴─   ─┴────┘\n",
        "```\n",
        "\n",
        "When we apply `unfold` with a 3×3 kernel, we extract patches from each spatial location in the input tensor:\n",
        ""
      ],
      "metadata": {
        "id": "j1IzePvD8dzr"
      }
    },
    {
      "cell_type": "code",
      "source": [
        "\n",
        "img_3channel = torch.rand(1, 3, 32, 32)\n",
        "\n",
        "unfloded = torch.nn.functional.unfold(\n",
        "    img_3channel,\n",
        "    kernel_size=3,\n",
        "    stride=1\n",
        ")\n",
        "print(unfloded.shape)\n"
      ],
      "metadata": {
        "id": "HrS5u5aH9JiL",
        "outputId": "57f56102-c32a-43ee-f146-a18835db2fa8",
        "colab": {
          "base_uri": "https://localhost:8080/"
        }
      },
      "execution_count": 9,
      "outputs": [
        {
          "output_type": "stream",
          "name": "stdout",
          "text": [
            "torch.Size([1, 27, 900])\n"
          ]
        }
      ]
    },
    {
      "cell_type": "markdown",
      "source": [
        "Let's look at the first patch (top-left 3×3 window) across all channels:\n",
        "\n",
        "```\n",
        "First Patch (3×3 window at position [0,0]):\n",
        "\n",
        "Channel 0:         Channel 1:         Channel 2:\n",
        "┌────┬────┬────┐   ┌────┬────┬────┐   ┌────┬────┬────┐\n",
        "│ A0 │ B0 │ C0 │   │ A1 │ B1 │ C1 │   │ A2 │ B2 │ C2 │\n",
        "├────┼────┼────┤   ├────┼────┼────┤   ├────┼────┼────┤\n",
        "│ D0 │ E0 │ F0 │   │ D1 │ E1 │ F1 │   │ D2 │ E2 │ F2 │\n",
        "├────┼────┼────┤   ├────┼────┼────┤   ├────┼────┼────┤\n",
        "│ G0 │ H0 │ I0 │   │ G1 │ H1 │ I1 │   │ G2 │ H2 │ I2 │\n",
        "└────┴────┴────┘   └────┴────┴────┘   └────┴────┴────┘\n",
        "```\n",
        "\n",
        "### Converting to the Unfolded Representation\n",
        "\n",
        "When unfolded, each 3×3 patch from each channel gets flattened and concatenated to form a single column:\n",
        "\n",
        "```\n",
        "First Patch Unfolded (27 values):\n",
        "┌────┐\n",
        "│ A0 │\n",
        "├────┤\n",
        "│ B0 │\n",
        "├────┤  Channel 0\n",
        "│ C0 │  (9 values)\n",
        "├────┤\n",
        "│ D0 │\n",
        "├────┤\n",
        "│... │\n",
        "├────┤\n",
        "│ I0 │\n",
        "├────┤\n",
        "│ A1 │\n",
        "├────┤\n",
        "│ B1 │\n",
        "├────┤  Channel 1\n",
        "│ C1 │  (9 values)\n",
        "├────┤\n",
        "│ D1 │\n",
        "├────┤\n",
        "│... │\n",
        "├────┤\n",
        "│ I1 │\n",
        "├────┤\n",
        "│ A2 │\n",
        "├────┤\n",
        "│ B2 │\n",
        "├────┤  Channel 2\n",
        "│ C2 │  (9 values)\n",
        "├────┤\n",
        "│ D2 │\n",
        "├────┤\n",
        "│... │\n",
        "├────┤\n",
        "│ I2 │\n",
        "└────┘\n",
        "```\n",
        "\n"
      ],
      "metadata": {
        "id": "r76zr8R293M4"
      }
    },
    {
      "cell_type": "markdown",
      "source": [
        "The unfold operation produces a tensor of shape `[1, 27, 1024]` where\n",
        "- 1 = batch size\n",
        "- 27 = channels x kernels x kernel = 3 x 3 x 3 : because we flatten a kernel X kernel window accross 3 channels.\n",
        "- 1024 = number of patches = 32 * 32"
      ],
      "metadata": {
        "id": "murw03nk-DHY"
      }
    },
    {
      "cell_type": "code",
      "source": [],
      "metadata": {
        "id": "dXlvLIQ793tB"
      },
      "execution_count": null,
      "outputs": []
    },
    {
      "cell_type": "code",
      "source": [],
      "metadata": {
        "id": "JuCx4QG5938g"
      },
      "execution_count": null,
      "outputs": []
    }
  ],
  "metadata": {
    "language_info": {
      "name": "python"
    },
    "colab": {
      "provenance": [],
      "include_colab_link": true
    },
    "kernelspec": {
      "name": "python3",
      "display_name": "Python 3"
    }
  },
  "nbformat": 4,
  "nbformat_minor": 0
}
