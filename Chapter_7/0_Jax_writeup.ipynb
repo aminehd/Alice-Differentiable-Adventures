{
 "cells": [
  {
   "cell_type": "code",
   "execution_count": null,
   "metadata": {
    "vscode": {
     "languageId": "plaintext"
    }
   },
   "outputs": [],
   "source": [
    "- jax vs equinox\n",
    "- Separation of concerns: Jax, equinox, optix and jiit. \n",
    "- cool tricks"
   ]
  },
  {
   "cell_type": "markdown",
   "metadata": {},
   "source": [
    "https://docs.kidger.site/equinox/examples/mnist/\n",
    "Hopefully this example has given you a taste of how models are built using JAX and Equinox. For next steps, take a look at the JAX documentation for more information on JAX, the All of Equinox page for a summary of everything Equinox can do, or training an RNN for another example.\n",
    "https://docs.kidger.site/equinox/all-of-equinox/\n"
   ]
  }
 ],
 "metadata": {
  "language_info": {
   "name": "python"
  }
 },
 "nbformat": 4,
 "nbformat_minor": 2
}
